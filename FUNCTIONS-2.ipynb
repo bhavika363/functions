{
  "nbformat": 4,
  "nbformat_minor": 0,
  "metadata": {
    "colab": {
      "provenance": []
    },
    "kernelspec": {
      "name": "python3",
      "display_name": "Python 3"
    },
    "language_info": {
      "name": "python"
    }
  },
  "cells": [
    {
      "cell_type": "markdown",
      "source": [],
      "metadata": {
        "id": "5JhExmYH9rMo"
      }
    },
    {
      "cell_type": "markdown",
      "source": [],
      "metadata": {
        "id": "AuTmmsVP9lM-"
      }
    },
    {
      "cell_type": "code",
      "execution_count": null,
      "metadata": {
        "id": "E_DI8F809bU3"
      },
      "outputs": [],
      "source": []
    },
    {
      "cell_type": "markdown",
      "source": [],
      "metadata": {
        "id": "mDf8UaEt9j1t"
      }
    },
    {
      "cell_type": "markdown",
      "source": [
        "\n",
        "#FUNCTIONS"
      ],
      "metadata": {
        "id": "JdL1M9p8-NrJ"
      }
    },
    {
      "cell_type": "markdown",
      "source": [
        "QUES1: WHAT IS THE DIFFERENCE BETWEEN A FUNCTION AND A METHOD IN PYTHON?\n",
        "\n",
        "ANS1:  A function is ablock of code that performs a specific tasks and can be called independently . functions help break a program into smaller, managable parts.Functions can take arguments and return values.\n",
        "\n",
        "example:   \n",
        "\n",
        "          def greet(name):\n",
        "          print(f\"Hello , {name} !\")\n",
        "          greet(\"John\")\n",
        "          #output : Hello,John !\n",
        "\n",
        "          greet(\"ajay\")\n",
        "          #output: Hello,Ajay!\n",
        "\n",
        "          METHOD\n",
        "          A method on the other hand is a function that is defined inside a class it is used to perform actions on an instance of the calss .Methods typically operate on an object's attribute and can modify its state.\n",
        "          example list.append(item)\n"
      ],
      "metadata": {
        "id": "Oz1nD6mR-S8J"
      }
    },
    {
      "cell_type": "markdown",
      "source": [
        "QUES2 : EXPLAIN THE CONCEPT OF FUNCTION ARGUMENTS AND PARAMETERS IN PYTHON?\n",
        "\n",
        "ANS2: A function is a block of reusable code that performs a specific tasks . Functions help make programmes more organised , modular and easy to maintain.\n",
        "\n",
        "example: def greet():\n",
        "          print(\"Hello\")\n",
        "          \n",
        "\n",
        "          ARGUMENTS:\n",
        "          Arguments are the actual values you pass to the function when you call it. they can be literals, variables or even expressions that evaluate to the value. Arguments are assigned to the corresponding parameters in the function defination.\n",
        "          greet(\"alice\")\n",
        "          here alice is an argument passed to the greet function\n",
        "\n",
        "          PARAMETERS:\n",
        "          parameters are variable listed inside the paranthesis in the function signature.\n",
        "          example : def greet (name):\n",
        "                     print (f\"Hello, {name} ! \" )\n",
        "                     here name is parameter\n",
        "\n",
        "          "
      ],
      "metadata": {
        "id": "kpDr4Lb9C8R3"
      }
    },
    {
      "cell_type": "markdown",
      "source": [
        "QUES3 : WHAT ARE THE DIFFERENCE WAYS TO DEFINE AND CALL A FUNCTION IN PYTHON?\n",
        "\n",
        "ANS3:  1.REGULAR FUNCTION : defined using a keyword\n",
        "example:\n",
        "         def greet(name):\n",
        "         return f \"hello {name}\"\n",
        "      \n",
        "     2. FUNCTION WITH DEFAULT ARGUMENTS\n",
        "     useful when some arguments are optional\n",
        "     def sum(b , c a=0)\n",
        "     return a+b+c\n",
        "     sum(b=3, c=6)\n",
        "     #output   9\n",
        "     3. FUNCTION WITH VARIABLE LENGTH ARGUMENTS\n",
        "     *args for any number of positional arguments\n",
        "     EXAMPLE\n",
        "       def add_all (*args):\n",
        "       return sum (args)\n",
        "\n",
        "      4. LAMBDA FUNCTION\n",
        "      useful for small, short lived functions\n",
        "      EXAMPLE\n",
        "       square(x):\n",
        "       returnx **2\n",
        "       square(2)\n",
        "     #output  4\n",
        "    \n",
        "    5. NESTED FUNCTION\n",
        "    functuon inside another function\n",
        "    EXAMPLE\n",
        "    def only _numeric (a):\n",
        "    n=[]\n",
        "    for i in a:\n",
        "    if type(i) == list:\n",
        "    for j in i:\n",
        "    if type (j) == int or type(j) == float:\n",
        "    n.append(j)\n",
        "    else:\n",
        "      if type (i) == int or type(i) == float:\n",
        "      n.append(i)\n",
        "      return n\n",
        "      only_numeric ([ 1, 2.2 , \"ajayu\" [ 100, 101 ]])\n",
        "     # output\n",
        "          [ 1, 2.2 , 100 , 101]\n",
        "\n",
        "\n",
        "       "
      ],
      "metadata": {
        "id": "RHQkF0ewGfHc"
      }
    },
    {
      "cell_type": "markdown",
      "source": [
        "QUES4: WHAT IS THE PURPOSE OF RETURN STATEMENT IN PYTHON FUNCTION?\n",
        "\n",
        "ANS4: The return functions allows a function to send data back to the code that called it\n",
        "\n",
        " EXAMPLE:\n",
        "         \n",
        "          def sqaure(x):\n",
        "          return x **x\n",
        "          square(2)\n",
        "          #output 4\n"
      ],
      "metadata": {
        "id": "VuDuIEV1LfD2"
      }
    },
    {
      "cell_type": "markdown",
      "source": [
        "when python encounters a return, it immediately exists the function even if there is more code below it\n",
        "EXAMPLE:\n",
        "\n",
        "       def check _ positive (n):\n",
        "       if n >0 : return \"positive else:\" not positive\"\n",
        "       "
      ],
      "metadata": {
        "id": "Eml1_H1zNRs0"
      }
    },
    {
      "cell_type": "markdown",
      "source": [
        "if a function has no return statement it returns none by default  \n",
        "   \n",
        "    EXAMPLE:\n",
        "\n",
        "\n",
        "               def say _hello ():\n",
        "                print(\"hello \")\n",
        "                 x = say_hello()\n",
        "                  print(x)\n",
        "                  #output  none\n",
        "\n",
        "\n"
      ],
      "metadata": {
        "id": "x23WW30KN6qv"
      }
    },
    {
      "cell_type": "markdown",
      "source": [],
      "metadata": {
        "id": "KAXy3EzkOX-p"
      }
    },
    {
      "cell_type": "markdown",
      "source": [
        "QUES5 : WHAT ARE THE ITERATORS IN PYTHON AND HOW  DO THEY DIFFER FROM ITERABLES?\n",
        "\n",
        " ANS5: An iterator is an object in python that represents a stream of data and lets you fetch items one at a time using the next() function.\n",
        "   \n",
        "   DIFFERENCE BETWEEN ITERABLE AND ITERATOR\n",
        "\n",
        "   ITERABLE:\n",
        "   1. Container that can be looped over\n",
        "   2. methods require:iter()\n",
        "   3. can be used for loop\n",
        "   4. can not call next()\n",
        "   5. example: list, tuple , string , set , dictionary\n",
        "\n",
        "   ITERATOR:\n",
        "   1. Object that does the actual iteration\n",
        "   2. methods require iter() and next()\n",
        "   3. can be used for loop\n",
        "   4. consumed once unless recreated\n",
        "   5. example: object returned by iter(iterable)\n",
        "   \n"
      ],
      "metadata": {
        "id": "rmdT4BurOst3"
      }
    },
    {
      "cell_type": "markdown",
      "source": [
        "QUES6: EXPLAIN THE CONCEPT OF GENERATORS IN PYTHON AND HOW THEY ARE DEFINED.\n",
        "\n",
        "ANS6: In python generators are a special type of iterator thaat are used to generate values on the fly one at a time and only when needed . they are memory efficient especially useful for working with large data streams or infinite sequences\n",
        "\n",
        " it can be defined as:\n",
        "\n",
        "  1.USING A GENERATOR FUNCTION\n",
        "\n",
        "  THIS function does not execute all at once it passed at yield and resumes where it left off each time it is called\n",
        "\n",
        "  EXAMPLE:\n",
        "            \n",
        "            def count()\n",
        "            i=1\n",
        "            while i <=n:\n",
        "            yield i\n",
        "            i + = 1\n",
        "            "
      ],
      "metadata": {
        "id": "u7GLsKmrQy-5"
      }
    },
    {
      "cell_type": "markdown",
      "source": [
        "2. CALLING IT\n",
        "\n",
        "       gen = count (3)\n",
        "       print(next(gen)) #1\n",
        "       print(next(gen)) #2\n",
        "       print(next(gen)) #3\n",
        "\n",
        "next(gen) now raises stoplteration"
      ],
      "metadata": {
        "id": "HIFCM6KjSSuI"
      }
    },
    {
      "cell_type": "markdown",
      "source": [
        "QUES7: WHAT ARE THE ADVANTAGES OF USING GENERATORS OVRER REGULAR FUNCTIONS?\n",
        "\n",
        "ANS7: Advantages:\n",
        "  \n",
        "      - Generators avoid computing values until needed.\n",
        "      - doesnot store all data in memory\n",
        "      - can handle and represent infinite data and sequence\n",
        "      - it is easier to implement that custom iterators\n",
        "      - faster perfomance output values as they are produced"
      ],
      "metadata": {
        "id": "VAVpODeLS5IG"
      }
    },
    {
      "cell_type": "markdown",
      "source": [
        "QUES8: WHAT IS LAMBDA FUNCTION IN PYTHON AND WHEN IT IS TYPICALLY USED?\n",
        "\n",
        "ANS8: Lambda function in python is a small anonymous function defined using the lambda keyword. aIt is typically used for short, simple operations where defining a full function with def would be unnecessary or verbose.\n",
        "\n",
        "It is used typically when we have to do quick throwaway operations, especially when passes as arguments to other functions.\n",
        "\n"
      ],
      "metadata": {
        "id": "TP3jqfgYTzT2"
      }
    },
    {
      "cell_type": "markdown",
      "source": [
        "QUES9 :EXPLAIN THE PURPOSE AND USAGE OF THE MAP() FUNCTION IN PYTHON?\n",
        "\n",
        "ANS9: The map function is used to apply a function to every item in an iterable (like list, tuple) and return a new iterator with the result.\n",
        "\n",
        "purpose of map is to transform or modify each element in collection using a specified function without writing an explicit loop.\n",
        "\n",
        "EXAMPLE:\n",
        "\n",
        "    def square(x)\n",
        "    return x**x\n",
        "    num= [ 1,2,3,4]\n",
        "    list(map(square,num))\n",
        "    #output\n",
        "    [ 1,4,9,16]\n",
        "    "
      ],
      "metadata": {
        "id": "n9zmb6T6Urnx"
      }
    },
    {
      "cell_type": "markdown",
      "source": [
        "QUES10: WHAT IS THE DIFFERENCE BETWEEN MAP() , REDUCE(), AND FILTER() FUNCTIONS IN PYTHON?\n",
        "\n",
        "ANS10: MAP()\n",
        "       \n",
        "       - map() :   . Applies a function to all items in an iterable.\n",
        "                   . returns iterator\n",
        "                   . doesnot require functools\n",
        "                   . transform each item\n",
        "\n",
        "       - syntax:\n",
        "       map(function, iterable)\n",
        "      \n",
        "       - USE CASE\n",
        "       Transforming data, applying a function to each element of an iterable.\n",
        "\n",
        "        l = [1,2,3,4,5]\n",
        "        list(map(lambda x: x+10,l))\n",
        "        #output\n",
        "        [11,12,12,14,15]\n",
        "\n",
        "        REDUCE()\n",
        "        - folding or reduction\n",
        "        - applies a function comutatively to the items you must import it from functools\n",
        "        - returns single value\n",
        "        - it requires functool\n",
        "        - it compute comulative resul\n",
        "        - reduces item to a single value\n",
        "\n",
        "        SYNTAX\n",
        "\n",
        "        reduce(func, iterable)\n",
        "\n",
        "        USE CASE:\n",
        "        Aggregating data, computing a cumulative result\n",
        "          \n",
        "\n",
        "          l = [1,2,3,4,5,6]\n",
        "          list(reduce(lambda x,y : x+y , l))\n",
        "          #output 25\n",
        "\n",
        "\n",
        "          FILTER()\n",
        "\n",
        "          - Filters items that meet a condition (returning true)\n",
        "          - returns iterators\n",
        "          - doesnot requires functools\n",
        "          - keep only items that match a test\n",
        "          - filters items based on conditions\n",
        "          \n",
        "\n",
        "          SYNTAX\n",
        "\n",
        "          filter(func, iterable)\n",
        "\n",
        "          USE CASE:\n",
        "          filtering data, selecting elements that meet a certain conditions.\n",
        "\n",
        "\n",
        "          l = [ -1, -2, 3 ,4 ,5 ]\n",
        "          list(filter(lambda x x<0 , l ))\n",
        "          #output\n",
        "           [-1,-2]\n",
        "\n",
        "\n"
      ],
      "metadata": {
        "id": "CH9W9P06Wem4"
      }
    },
    {
      "cell_type": "markdown",
      "source": [
        "QUES11: USING PEN AND PAPER WRITE THE INTERNAL MECHANISM FOR SUM OPERATIONS     USING REDUCE FUNCTION ON THIS GIVEN LIST [ 47, 11, 42, 13 ]\n",
        "\n",
        "ANS11:\n",
        "       let l = [47, 11, 42,13]\n",
        "        We will  use   \n",
        "        reduce (lambda x,y : x+y, l)\n",
        "\n",
        "        1. start with first two elements:\n",
        "        \n",
        "        x = 47\n",
        "        y = 11\n",
        "        result = x+y = 58\n",
        "\n",
        "        2. now take the result (58) and apply it to the next element\n",
        "\n",
        "           x = 58\n",
        "           y = 42\n",
        "           result = 100\n",
        "\n",
        "         3. apply that result(100) to the last element:\n",
        "               \n",
        "          \n",
        "          x = 100\n",
        "          y = 13\n",
        "          result x+y = 113\n",
        "            \n",
        "\n",
        "         4. final result\n",
        "        list(reduce(lambda(x,y : x+y , l))\n",
        "            \n",
        "            #output   113\n",
        "      \n",
        "        \n",
        "\n"
      ],
      "metadata": {
        "id": "oU_Y0E9Hb4gv"
      }
    },
    {
      "cell_type": "markdown",
      "source": [
        "A"
      ],
      "metadata": {
        "id": "ABbiSuOlcZi_"
      }
    },
    {
      "cell_type": "markdown",
      "source": [
        "#practical questions\n"
      ],
      "metadata": {
        "id": "cNvgm8lbeGA0"
      }
    },
    {
      "cell_type": "markdown",
      "source": [
        "QUES1:\n"
      ],
      "metadata": {
        "id": "Ul0Jr_jinJOY"
      }
    },
    {
      "cell_type": "code",
      "source": [
        " numbers = [1,2,4,6,7]\n",
        " def sum (numbers):\n",
        "  return sum (num for num in numbers if num%2 == 0)\n"
      ],
      "metadata": {
        "id": "2AdFHrDWnLej"
      },
      "execution_count": 74,
      "outputs": []
    },
    {
      "cell_type": "markdown",
      "source": [
        "QUES2"
      ],
      "metadata": {
        "id": "nbkKj_iUnRd2"
      }
    },
    {
      "cell_type": "code",
      "source": [
        "s = (\"pwskills\")\n",
        "def reverse(s):\n",
        "  return s [ :: -1]\n",
        "  s"
      ],
      "metadata": {
        "id": "3h9anFcAnH1W"
      },
      "execution_count": 78,
      "outputs": []
    },
    {
      "cell_type": "markdown",
      "source": [],
      "metadata": {
        "id": "BDKbeH0knPVb"
      }
    },
    {
      "cell_type": "markdown",
      "source": [
        "QUES3:"
      ],
      "metadata": {
        "id": "Gpxqe9cinUzJ"
      }
    },
    {
      "cell_type": "code",
      "source": [
        " l = [ 1,2,3,4]\n",
        " list (map(lambda x : x**2 , l))\n",
        "\n",
        "\n",
        "\n"
      ],
      "metadata": {
        "colab": {
          "base_uri": "https://localhost:8080/"
        },
        "id": "LcatP3YtnWVi",
        "outputId": "6f916e66-1b06-4cd8-bb4f-0918c42e5129"
      },
      "execution_count": 28,
      "outputs": [
        {
          "output_type": "execute_result",
          "data": {
            "text/plain": [
              "[1, 4, 9, 16]"
            ]
          },
          "metadata": {},
          "execution_count": 28
        }
      ]
    },
    {
      "cell_type": "markdown",
      "source": [
        "Q4"
      ],
      "metadata": {
        "id": "8PFkUsz6o3YQ"
      }
    },
    {
      "cell_type": "code",
      "source": [
        "\n",
        "def prime(n):\n",
        "  if n < = 1:\n",
        "  return False\n",
        "  for i in range (1, int (n ** 0.5) +1):\n",
        "  if n % i ==0:\n",
        "    return False\n",
        "    return True\n",
        "\n",
        ""
      ],
      "metadata": {
        "colab": {
          "base_uri": "https://localhost:8080/",
          "height": 105
        },
        "id": "S867qM3Po5oO",
        "outputId": "c93c90f5-d04e-4e91-942e-003d21a46e46"
      },
      "execution_count": 70,
      "outputs": [
        {
          "output_type": "error",
          "ename": "SyntaxError",
          "evalue": "invalid syntax (<ipython-input-70-cd9700b18f08>, line 2)",
          "traceback": [
            "\u001b[0;36m  File \u001b[0;32m\"<ipython-input-70-cd9700b18f08>\"\u001b[0;36m, line \u001b[0;32m2\u001b[0m\n\u001b[0;31m    if n < = 1:\u001b[0m\n\u001b[0m           ^\u001b[0m\n\u001b[0;31mSyntaxError\u001b[0m\u001b[0;31m:\u001b[0m invalid syntax\n"
          ]
        }
      ]
    },
    {
      "cell_type": "code",
      "source": [
        "for num in range (1,200):\n",
        "  if prime(num):\n",
        "    print(f\"{num} is a prime\")"
      ],
      "metadata": {
        "colab": {
          "base_uri": "https://localhost:8080/",
          "height": 173
        },
        "id": "NNQaJYkX2za0",
        "outputId": "419c8f05-ad17-47d4-cea4-a552c8c71697"
      },
      "execution_count": 71,
      "outputs": [
        {
          "output_type": "error",
          "ename": "NameError",
          "evalue": "name 'prime' is not defined",
          "traceback": [
            "\u001b[0;31m---------------------------------------------------------------------------\u001b[0m",
            "\u001b[0;31mNameError\u001b[0m                                 Traceback (most recent call last)",
            "\u001b[0;32m<ipython-input-71-67da4b045151>\u001b[0m in \u001b[0;36m<cell line: 0>\u001b[0;34m()\u001b[0m\n\u001b[1;32m      1\u001b[0m \u001b[0;32mfor\u001b[0m \u001b[0mnum\u001b[0m \u001b[0;32min\u001b[0m \u001b[0mrange\u001b[0m \u001b[0;34m(\u001b[0m\u001b[0;36m1\u001b[0m\u001b[0;34m,\u001b[0m\u001b[0;36m200\u001b[0m\u001b[0;34m)\u001b[0m\u001b[0;34m:\u001b[0m\u001b[0;34m\u001b[0m\u001b[0;34m\u001b[0m\u001b[0m\n\u001b[0;32m----> 2\u001b[0;31m   \u001b[0;32mif\u001b[0m \u001b[0mprime\u001b[0m\u001b[0;34m(\u001b[0m\u001b[0mnum\u001b[0m\u001b[0;34m)\u001b[0m\u001b[0;34m:\u001b[0m\u001b[0;34m\u001b[0m\u001b[0;34m\u001b[0m\u001b[0m\n\u001b[0m\u001b[1;32m      3\u001b[0m     \u001b[0mprint\u001b[0m\u001b[0;34m(\u001b[0m\u001b[0;34mf\"{num} is a prime\"\u001b[0m\u001b[0;34m)\u001b[0m\u001b[0;34m\u001b[0m\u001b[0;34m\u001b[0m\u001b[0m\n",
            "\u001b[0;31mNameError\u001b[0m: name 'prime' is not defined"
          ]
        }
      ]
    },
    {
      "cell_type": "markdown",
      "source": [
        "ques5:"
      ],
      "metadata": {
        "id": "cEvWf3xftLr2"
      }
    },
    {
      "cell_type": "code",
      "source": [
        "def fib(n):\n",
        "  a=0\n",
        "  b=1\n",
        "  for i in range(n):\n",
        "    yield a\n",
        "    a,b = b , a+b\n",
        "    fib(100000)\n",
        ""
      ],
      "metadata": {
        "id": "BK_NYGNN1W-l"
      },
      "execution_count": 64,
      "outputs": []
    },
    {
      "cell_type": "code",
      "source": [
        "fib(1000000)"
      ],
      "metadata": {
        "colab": {
          "base_uri": "https://localhost:8080/"
        },
        "id": "BL9OhQD71vGT",
        "outputId": "b62282cc-c10b-4168-fe50-480e61cc4c48"
      },
      "execution_count": 65,
      "outputs": [
        {
          "output_type": "execute_result",
          "data": {
            "text/plain": [
              "<generator object fib at 0x7cd7888a56c0>"
            ]
          },
          "metadata": {},
          "execution_count": 65
        }
      ]
    },
    {
      "cell_type": "markdown",
      "source": [
        "ques6"
      ],
      "metadata": {
        "id": "1HtPR6SwvGI0"
      }
    },
    {
      "cell_type": "code",
      "source": [
        "def power(exponent):\n",
        "  for i in range (exponent+1):\n",
        "    yield 2 **i\n"
      ],
      "metadata": {
        "id": "cNtIwYdavJNz"
      },
      "execution_count": 38,
      "outputs": []
    },
    {
      "cell_type": "code",
      "source": [
        "#ques7\n",
        "\n",
        "def read _file_lines(file_path):\n",
        "  with open (file_path,'r')as file:\n",
        "    for line in file:\n",
        "      yield line. strip()"
      ],
      "metadata": {
        "colab": {
          "base_uri": "https://localhost:8080/",
          "height": 105
        },
        "id": "3Y2wa_e2nO-D",
        "outputId": "232e2807-37cf-4ccd-c181-b9fbc5d3d945"
      },
      "execution_count": 61,
      "outputs": [
        {
          "output_type": "error",
          "ename": "SyntaxError",
          "evalue": "expected '(' (<ipython-input-61-e9f43efbf1b1>, line 3)",
          "traceback": [
            "\u001b[0;36m  File \u001b[0;32m\"<ipython-input-61-e9f43efbf1b1>\"\u001b[0;36m, line \u001b[0;32m3\u001b[0m\n\u001b[0;31m    def read _file_lines(file_path):\u001b[0m\n\u001b[0m             ^\u001b[0m\n\u001b[0;31mSyntaxError\u001b[0m\u001b[0;31m:\u001b[0m expected '('\n"
          ]
        }
      ]
    },
    {
      "cell_type": "code",
      "source": [
        "#ques8\n",
        "tuples = [ (1,3) ,(2,1) , (3,2)]\n",
        "list(map(lambda x : sorted(x) , tuples))"
      ],
      "metadata": {
        "colab": {
          "base_uri": "https://localhost:8080/"
        },
        "id": "S32KE6bKvyv3",
        "outputId": "fc3b17c1-087d-4ccb-bb5b-b0b2839604a9"
      },
      "execution_count": 47,
      "outputs": [
        {
          "output_type": "execute_result",
          "data": {
            "text/plain": [
              "[[1, 3], [1, 2], [2, 3]]"
            ]
          },
          "metadata": {},
          "execution_count": 47
        }
      ]
    },
    {
      "cell_type": "code",
      "source": [
        "#ques9\n",
        "celcius = [ 0,20,30]\n",
        "list(map(lambda x : x*9/5 +32 , celcius))\n"
      ],
      "metadata": {
        "colab": {
          "base_uri": "https://localhost:8080/"
        },
        "id": "fJKKMmY7w6t0",
        "outputId": "500e8454-4c70-40cb-f0c6-70a3fa21fea4"
      },
      "execution_count": 48,
      "outputs": [
        {
          "output_type": "execute_result",
          "data": {
            "text/plain": [
              "[32.0, 68.0, 86.0]"
            ]
          },
          "metadata": {},
          "execution_count": 48
        }
      ]
    },
    {
      "cell_type": "code",
      "source": [
        "#ques10\n",
        "def remove(s):\n",
        "  return''. join(filter(lambda x :x.lower() not in'aeiou' ,s))\n"
      ],
      "metadata": {
        "id": "q_CuYlRTyrW6"
      },
      "execution_count": 79,
      "outputs": []
    },
    {
      "cell_type": "code",
      "source": [],
      "metadata": {
        "id": "StYBt7CxzTJn"
      },
      "execution_count": null,
      "outputs": []
    }
  ]
}